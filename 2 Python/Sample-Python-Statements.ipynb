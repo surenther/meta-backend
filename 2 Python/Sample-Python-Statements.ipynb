{
 "cells": [
  {
   "cell_type": "code",
   "execution_count": null,
   "metadata": {},
   "outputs": [],
   "source": [
    "#Print\n",
    "print (35 * 5)"
   ]
  },
  {
   "cell_type": "code",
   "execution_count": null,
   "metadata": {},
   "outputs": [],
   "source": [
    "#input\n",
    "num = input('Please enter the number: ')\n",
    "print(num)"
   ]
  },
  {
   "cell_type": "code",
   "execution_count": null,
   "metadata": {},
   "outputs": [],
   "source": [
    "# if else statements\n",
    "a= False\n",
    "b= False\n",
    "\n",
    "if not(a) and not(b):\n",
    "    print(\"All True\")\n",
    "else:\n",
    "    print(\"Value False\")"
   ]
  },
  {
   "cell_type": "code",
   "execution_count": null,
   "metadata": {},
   "outputs": [],
   "source": [
    "#else if statement\n",
    "bill_totals = 220\n",
    "discount1 =10\n",
    "discount2 = 20\n",
    "\n",
    "\n",
    "if bill_totals > 100 and bill_totals < 200:\n",
    "    print('Bill is greater than 100')\n",
    "    bill_totals = bill_totals -discount1\n",
    "elif bill_totals > 200:\n",
    "    print('Bill is greater than 200')\n",
    "    bill_totals = bill_totals -discount2\n",
    "else:\n",
    "    print('Bill is less than 100')\n",
    "\n",
    "print(\"Total bill is: \" + str(bill_totals))"
   ]
  },
  {
   "cell_type": "code",
   "execution_count": null,
   "metadata": {},
   "outputs": [],
   "source": [
    "#Case Statement\n",
    "http_status_code = 456;\n",
    "\n",
    "match http_status_code:\n",
    "    case 200 | 201:\n",
    "        print('Sucess')\n",
    "    case 400:\n",
    "        print('Bad request')\n",
    "    case 404:\n",
    "        print('Not found')\n",
    "    case 500 | 501:\n",
    "        print('Internal Server Error')\n",
    "    case _:\n",
    "        print('Unknown error')"
   ]
  },
  {
   "cell_type": "code",
   "execution_count": null,
   "metadata": {},
   "outputs": [],
   "source": [
    "# For loop using range\n",
    "for i in range(10):\n",
    "    print (\"Looping on \",i)"
   ]
  },
  {
   "cell_type": "code",
   "execution_count": null,
   "metadata": {},
   "outputs": [],
   "source": [
    "#For looop using list\n",
    "fav = ['Name1', 'Name2', 'Name3', 'Name4', 'Name5', 'Name6', 'Name7']\n",
    "\n",
    "for val in fav :\n",
    "    print(val)"
   ]
  },
  {
   "cell_type": "code",
   "execution_count": null,
   "metadata": {},
   "outputs": [],
   "source": [
    "#While looop using list\n",
    "fav = ['Name1', 'Name2', 'Name3', 'Name4', 'Name5', 'Name6', 'Name7']\n",
    "\n",
    "count = 0\n",
    "\n",
    "while count < len (fav) :\n",
    "    print (fav[count])\n",
    "    count = count + 1"
   ]
  },
  {
   "cell_type": "code",
   "execution_count": null,
   "metadata": {},
   "outputs": [],
   "source": [
    "#inner loops using range\n",
    "for i in range(5):\n",
    "    for j in range(5):\n",
    "        match j:\n",
    "            case 1 | 2 | 3 | 4 | 5 | 6 | 7 | 8 | 9:\n",
    "                print(j,end=' ')\n",
    "                continue\n",
    "            case _:\n",
    "                print(0,end=' ')\n",
    "    print()"
   ]
  },
  {
   "cell_type": "code",
   "execution_count": null,
   "metadata": {},
   "outputs": [],
   "source": [
    "#function definition\n",
    "def calculate_tex(bill,tax_rate):\n",
    "    return round((bill*tax_rate/100),2)\n",
    "\n",
    "print('Total Tax:',calculate_tex(175.00,15))\n",
    "print('Total Tax:',calculate_tex(164.32,22))"
   ]
  },
  {
   "cell_type": "code",
   "execution_count": null,
   "metadata": {},
   "outputs": [],
   "source": [
    "#global scope\n",
    "my_global = 10\n",
    "\n",
    "def fn1():\n",
    "    enclosed_v =8\n",
    "    def fn2():\n",
    "        local_v = 5\n",
    "        print('Accessing global',my_global)\n",
    "        print('Accessing enclosed',enclosed_v)\n",
    "    fn2()\n",
    "\n",
    "fn1()\n"
   ]
  },
  {
   "cell_type": "code",
   "execution_count": null,
   "metadata": {},
   "outputs": [],
   "source": [
    "# list options\n",
    "\n",
    "list1 = [1,2,3,4,5,6,7,8,9]\n",
    "\n",
    "print(list1, sep = \" \")\n",
    "\n",
    "list1.insert (len(list1), 10)\n",
    "\n",
    "print(list1, sep = \" \")\n",
    "\n",
    "list1.append (11)\n",
    "\n",
    "print(list1, sep = \" \")\n",
    "\n",
    "list1.extend ([12 ,13,14])\n",
    "\n",
    "print(list1, sep = \" \")\n",
    "\n",
    "list1.pop (13)\n",
    "\n",
    "print(list1, sep = \" \")\n",
    "\n",
    "del list1 [12]\n",
    "\n",
    "print(list1, sep = \" \")\n",
    "\n",
    "for x in list1:\n",
    "    print(\"value\", x)\n"
   ]
  },
  {
   "cell_type": "code",
   "execution_count": null,
   "metadata": {},
   "outputs": [],
   "source": [
    "# Tuple not changable\n",
    "my_tuple = (1,'string',4.5,True)\n",
    "\n",
    "print(my_tuple[1])\n",
    "\n",
    "print(type(my_tuple[3]))\n",
    "\n",
    "print(my_tuple.count('string'))\n",
    "\n",
    "print(my_tuple.index(4.5))\n",
    "\n",
    "for x in my_tuple:\n",
    "    print('values:',x)\n"
   ]
  },
  {
   "cell_type": "code",
   "execution_count": null,
   "metadata": {},
   "outputs": [],
   "source": [
    "# set no duplicate\n",
    "set_a = {1,2,3,4,5}\n",
    "\n",
    "print(set_a)\n",
    "\n",
    "set_a.add(6)\n",
    "\n",
    "print(set_a)\n",
    "\n",
    "set_a.discard(4)\n",
    "\n",
    "print(set_a)\n",
    "\n",
    "set_b = {4,5,6,7,8}\n",
    "\n",
    "print(set_a.union(set_b))\n",
    "print(set_a|set_b)\n",
    "\n",
    "print(set_b.intersection(set_a))\n",
    "print(set_b&set_a)\n",
    "\n",
    "print(set_b.difference(set_a))\n",
    "print(set_b-set_a)\n",
    "\n",
    "print(set_b.symmetric_difference(set_a))\n",
    "print(set_b^set_a)\n"
   ]
  },
  {
   "cell_type": "code",
   "execution_count": null,
   "metadata": {},
   "outputs": [],
   "source": [
    "#dictionary Key value pairs\n",
    "sample_dict = {1:'Coffee',2: 'Tea',3: 'Juice'}\n",
    "\n",
    "print(sample_dict)\n",
    "\n",
    "sample_dict[2] = 'Black Tea'\n",
    "\n",
    "print(sample_dict)\n",
    "\n",
    "del sample_dict[3]\n",
    "\n",
    "print(sample_dict)\n",
    "\n",
    "for key,value in sample_dict.items():\n",
    "    print('The Key is:'+str(key)+' '+value)\n"
   ]
  },
  {
   "cell_type": "code",
   "execution_count": null,
   "metadata": {},
   "outputs": [],
   "source": [
    "# args for more arguments\n",
    "def sum_of(*args):\n",
    "    sum = 0\n",
    "    for x in args:\n",
    "        sum = sum  + x\n",
    "    return sum\n",
    "\n",
    "print(sum_of(5,4,6,7,7))\n",
    "\n",
    "# args for more key value arguments\n",
    "def sum_of_k(**kwargs):\n",
    "    sum = 0\n",
    "    for k,v in kwargs.items():\n",
    "        sum = sum  + v\n",
    "    return sum\n",
    "\n",
    "print(sum_of_k(coffee=5.45, dosa=4.17, juice=1.35))\n"
   ]
  },
  {
   "cell_type": "code",
   "execution_count": null,
   "metadata": {},
   "outputs": [],
   "source": [
    "#Exception\n",
    "def divide (a,b):\n",
    "    return (a/b)\n",
    "\n",
    "try:\n",
    "    ans = print (divide(20,0))\n",
    "except ZeroDivisionError as e:\n",
    "    print(e,\"We cannot divide by zero\")\n",
    "except Exception as e:\n",
    "    print('Something went wrong',e)\n",
    "#     print(e.__class__)"
   ]
  },
  {
   "cell_type": "code",
   "execution_count": null,
   "metadata": {},
   "outputs": [],
   "source": [
    "#File read operations\n",
    "file = open('test.txt',mode='r')\n",
    "data = file.readline()\n",
    "print(data)\n",
    "file.close()"
   ]
  },
  {
   "cell_type": "code",
   "execution_count": null,
   "metadata": {},
   "outputs": [],
   "source": [
    "#File read operations with lines\n",
    "with open('test.txt', mode='r') as file:\n",
    "    data= file.readline()\n",
    "print(data)\n"
   ]
  },
  {
   "cell_type": "code",
   "execution_count": 11,
   "metadata": {},
   "outputs": [],
   "source": [
    "#File write operations\n",
    "with open('newfile.txt', 'w') as newfile:\n",
    "    newfile.write('This is the new file Created')\n",
    "    newfile.writelines([\"\\nThis is the another line\",\"\\n This is the thrid line\"])\n"
   ]
  },
  {
   "cell_type": "code",
   "execution_count": null,
   "metadata": {},
   "outputs": [],
   "source": [
    "#exemption with file\n",
    "try:\n",
    "    with open('sample/newfile.txt', 'a') as newfile:\n",
    "        newfile.write('This is the new file Created')\n",
    "        newfile.writelines([\"\\nThis is the another line\",\"\\n This is the thrid line\"])\n",
    "except FileNotFoundError as error:\n",
    "    print(\"Error Occured when creating\",error)"
   ]
  },
  {
   "cell_type": "code",
   "execution_count": null,
   "metadata": {},
   "outputs": [],
   "source": [
    "#File read options\n",
    "with open('sample.txt','r') as sample:\n",
    "    #print(sample.read())\n",
    "    #print(sample.read(45))\n",
    "    #print(sample.readline())\n",
    "    #print(sample.readlines())\n",
    "    #data = sample.readlines()\n",
    "    for x in sample:\n",
    "        print(x)"
   ]
  },
  {
   "cell_type": "code",
   "execution_count": 1,
   "metadata": {},
   "outputs": [
    {
     "name": "stdout",
     "output_type": "stream",
     "text": [
      "True\n"
     ]
    }
   ],
   "source": [
    "#Algorithm\n",
    "def isPalindrome(str):\n",
    "    startIndex= 0\n",
    "    endIndex= len(str) - 1\n",
    "\n",
    "    for x in str:\n",
    "        if str[startIndex] != str[endIndex]:\n",
    "            return False\n",
    "        else:\n",
    "            return  True\n",
    "\n",
    "print(isPalindrome('racecar'))"
   ]
  }
 ],
 "metadata": {
  "kernelspec": {
   "display_name": "Python 3.10.6 64-bit",
   "language": "python",
   "name": "python3"
  },
  "language_info": {
   "codemirror_mode": {
    "name": "ipython",
    "version": 3
   },
   "file_extension": ".py",
   "mimetype": "text/x-python",
   "name": "python",
   "nbconvert_exporter": "python",
   "pygments_lexer": "ipython3",
   "version": "3.10.6"
  },
  "orig_nbformat": 4,
  "vscode": {
   "interpreter": {
    "hash": "e7370f93d1d0cde622a1f8e1c04877d8463912d04d973331ad4851f04de6915a"
   }
  }
 },
 "nbformat": 4,
 "nbformat_minor": 2
}
