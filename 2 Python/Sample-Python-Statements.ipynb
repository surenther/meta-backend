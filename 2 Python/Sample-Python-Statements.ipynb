{
 "cells": [
  {
   "cell_type": "code",
   "execution_count": null,
   "metadata": {},
   "outputs": [],
   "source": [
    "#Print\n",
    "print (35 * 5)"
   ]
  },
  {
   "cell_type": "code",
   "execution_count": null,
   "metadata": {},
   "outputs": [],
   "source": [
    "#input\n",
    "num = input('Please enter the number: ')\n",
    "print(num)"
   ]
  },
  {
   "cell_type": "code",
   "execution_count": null,
   "metadata": {},
   "outputs": [],
   "source": [
    "# if else statements\n",
    "a= False\n",
    "b= False\n",
    "\n",
    "if not(a) and not(b):\n",
    "    print(\"All True\")\n",
    "else:\n",
    "    print(\"Value False\")"
   ]
  },
  {
   "cell_type": "code",
   "execution_count": null,
   "metadata": {},
   "outputs": [],
   "source": [
    "#else if statement\n",
    "bill_totals = 220\n",
    "discount1 =10\n",
    "discount2 = 20\n",
    "\n",
    "\n",
    "if bill_totals > 100 and bill_totals < 200:\n",
    "    print('Bill is greater than 100')\n",
    "    bill_totals = bill_totals -discount1\n",
    "elif bill_totals > 200:\n",
    "    print('Bill is greater than 200')\n",
    "    bill_totals = bill_totals -discount2\n",
    "else:\n",
    "    print('Bill is less than 100')\n",
    "\n",
    "print(\"Total bill is: \" + str(bill_totals))"
   ]
  },
  {
   "cell_type": "code",
   "execution_count": null,
   "metadata": {},
   "outputs": [],
   "source": [
    "#Case Statement\n",
    "http_status_code = 456;\n",
    "\n",
    "match http_status_code:\n",
    "    case 200 | 201:\n",
    "        print('Sucess')\n",
    "    case 400:\n",
    "        print('Bad request')\n",
    "    case 404:\n",
    "        print('Not found')\n",
    "    case 500 | 501:\n",
    "        print('Internal Server Error')\n",
    "    case _:\n",
    "        print('Unknown error')"
   ]
  },
  {
   "cell_type": "code",
   "execution_count": null,
   "metadata": {},
   "outputs": [],
   "source": [
    "# For loop using range\n",
    "for i in range(10):\n",
    "    print (\"Looping on \",i)"
   ]
  },
  {
   "cell_type": "code",
   "execution_count": null,
   "metadata": {},
   "outputs": [],
   "source": [
    "#For looop using list\n",
    "fav = ['Name1', 'Name2', 'Name3', 'Name4', 'Name5', 'Name6', 'Name7']\n",
    "\n",
    "for val in fav :\n",
    "    print(val)"
   ]
  },
  {
   "cell_type": "code",
   "execution_count": null,
   "metadata": {},
   "outputs": [],
   "source": [
    "#While looop using list\n",
    "fav = ['Name1', 'Name2', 'Name3', 'Name4', 'Name5', 'Name6', 'Name7']\n",
    "\n",
    "count = 0\n",
    "\n",
    "while count < len (fav) :\n",
    "    print (fav[count])\n",
    "    count = count + 1"
   ]
  },
  {
   "cell_type": "code",
   "execution_count": null,
   "metadata": {},
   "outputs": [],
   "source": [
    "#inner loops using range\n",
    "for i in range(5):\n",
    "    for j in range(5):\n",
    "        match j:\n",
    "            case 1 | 2 | 3 | 4 | 5 | 6 | 7 | 8 | 9:\n",
    "                print(j,end=' ')\n",
    "                continue\n",
    "            case _:\n",
    "                print(0,end=' ')\n",
    "    print()"
   ]
  },
  {
   "cell_type": "code",
   "execution_count": null,
   "metadata": {},
   "outputs": [],
   "source": [
    "#function definition\n",
    "def calculate_tex(bill,tax_rate):\n",
    "    return round((bill*tax_rate/100),2)\n",
    "\n",
    "print('Total Tax:',calculate_tex(175.00,15))\n",
    "print('Total Tax:',calculate_tex(164.32,22))"
   ]
  },
  {
   "cell_type": "code",
   "execution_count": null,
   "metadata": {},
   "outputs": [],
   "source": [
    "#global scope\n",
    "my_global = 10\n",
    "\n",
    "def fn1():\n",
    "    enclosed_v =8\n",
    "    def fn2():\n",
    "        local_v = 5\n",
    "        print('Accessing global',my_global)\n",
    "        print('Accessing enclosed',enclosed_v)\n",
    "    fn2()\n",
    "\n",
    "fn1()\n"
   ]
  },
  {
   "cell_type": "code",
   "execution_count": null,
   "metadata": {},
   "outputs": [],
   "source": [
    "# list options\n",
    "\n",
    "list1 = [1,2,3,4,5,6,7,8,9]\n",
    "\n",
    "print(list1, sep = \" \")\n",
    "\n",
    "list1.insert (len(list1), 10)\n",
    "\n",
    "print(list1, sep = \" \")\n",
    "\n",
    "list1.append (11)\n",
    "\n",
    "print(list1, sep = \" \")\n",
    "\n",
    "list1.extend ([12 ,13,14])\n",
    "\n",
    "print(list1, sep = \" \")\n",
    "\n",
    "list1.pop (13)\n",
    "\n",
    "print(list1, sep = \" \")\n",
    "\n",
    "del list1 [12]\n",
    "\n",
    "print(list1, sep = \" \")\n",
    "\n",
    "for x in list1:\n",
    "    print(\"value\", x)\n"
   ]
  },
  {
   "cell_type": "code",
   "execution_count": null,
   "metadata": {},
   "outputs": [],
   "source": [
    "# Tuple not changable\n",
    "my_tuple = (1,'string',4.5,True)\n",
    "\n",
    "print(my_tuple[1])\n",
    "\n",
    "print(type(my_tuple[3]))\n",
    "\n",
    "print(my_tuple.count('string'))\n",
    "\n",
    "print(my_tuple.index(4.5))\n",
    "\n",
    "for x in my_tuple:\n",
    "    print('values:',x)\n"
   ]
  },
  {
   "cell_type": "code",
   "execution_count": null,
   "metadata": {},
   "outputs": [],
   "source": [
    "# set no duplicate\n",
    "set_a = {1,2,3,4,5}\n",
    "\n",
    "print(set_a)\n",
    "\n",
    "set_a.add(6)\n",
    "\n",
    "print(set_a)\n",
    "\n",
    "set_a.discard(4)\n",
    "\n",
    "print(set_a)\n",
    "\n",
    "set_b = {4,5,6,7,8}\n",
    "\n",
    "print(set_a.union(set_b))\n",
    "print(set_a|set_b)\n",
    "\n",
    "print(set_b.intersection(set_a))\n",
    "print(set_b&set_a)\n",
    "\n",
    "print(set_b.difference(set_a))\n",
    "print(set_b-set_a)\n",
    "\n",
    "print(set_b.symmetric_difference(set_a))\n",
    "print(set_b^set_a)\n"
   ]
  },
  {
   "cell_type": "code",
   "execution_count": null,
   "metadata": {},
   "outputs": [],
   "source": [
    "#dictionary Key value pairs\n",
    "sample_dict = {1:'Coffee',2: 'Tea',3: 'Juice'}\n",
    "\n",
    "print(sample_dict)\n",
    "\n",
    "sample_dict[2] = 'Black Tea'\n",
    "\n",
    "print(sample_dict)\n",
    "\n",
    "del sample_dict[3]\n",
    "\n",
    "print(sample_dict)\n",
    "\n",
    "for key,value in sample_dict.items():\n",
    "    print('The Key is:'+str(key)+' '+value)\n"
   ]
  },
  {
   "cell_type": "code",
   "execution_count": null,
   "metadata": {},
   "outputs": [],
   "source": [
    "# args for more arguments\n",
    "def sum_of(*args):\n",
    "    sum = 0\n",
    "    for x in args:\n",
    "        sum = sum  + x\n",
    "    return sum\n",
    "\n",
    "print(sum_of(5,4,6,7,7))\n",
    "\n",
    "# args for more key value arguments\n",
    "def sum_of_k(**kwargs):\n",
    "    sum = 0\n",
    "    for k,v in kwargs.items():\n",
    "        sum = sum  + v\n",
    "    return sum\n",
    "\n",
    "print(sum_of_k(coffee=5.45, dosa=4.17, juice=1.35))\n"
   ]
  },
  {
   "cell_type": "code",
   "execution_count": null,
   "metadata": {},
   "outputs": [],
   "source": [
    "#Exception\n",
    "def divide (a,b):\n",
    "    return (a/b)\n",
    "\n",
    "try:\n",
    "    ans = print (divide(20,0))\n",
    "except ZeroDivisionError as e:\n",
    "    print(e,\"We cannot divide by zero\")\n",
    "except Exception as e:\n",
    "    print('Something went wrong',e)\n",
    "#     print(e.__class__)"
   ]
  },
  {
   "cell_type": "code",
   "execution_count": null,
   "metadata": {},
   "outputs": [],
   "source": [
    "#File read operations\n",
    "file = open('test.txt',mode='r')\n",
    "data = file.readline()\n",
    "print(data)\n",
    "file.close()"
   ]
  },
  {
   "cell_type": "code",
   "execution_count": null,
   "metadata": {},
   "outputs": [],
   "source": [
    "#File read operations with lines\n",
    "with open('test.txt', mode='r') as file:\n",
    "    data= file.readline()\n",
    "print(data)\n"
   ]
  },
  {
   "cell_type": "code",
   "execution_count": 11,
   "metadata": {},
   "outputs": [],
   "source": [
    "#File write operations\n",
    "with open('newfile.txt', 'w') as newfile:\n",
    "    newfile.write('This is the new file Created')\n",
    "    newfile.writelines([\"\\nThis is the another line\",\"\\n This is the thrid line\"])\n"
   ]
  },
  {
   "cell_type": "code",
   "execution_count": null,
   "metadata": {},
   "outputs": [],
   "source": [
    "#exemption with file\n",
    "try:\n",
    "    with open('sample/newfile.txt', 'a') as newfile:\n",
    "        newfile.write('This is the new file Created')\n",
    "        newfile.writelines([\"\\nThis is the another line\",\"\\n This is the thrid line\"])\n",
    "except FileNotFoundError as error:\n",
    "    print(\"Error Occured when creating\",error)"
   ]
  },
  {
   "cell_type": "code",
   "execution_count": null,
   "metadata": {},
   "outputs": [],
   "source": [
    "#File read options\n",
    "with open('sample.txt','r') as sample:\n",
    "    #print(sample.read())\n",
    "    #print(sample.read(45))\n",
    "    #print(sample.readline())\n",
    "    #print(sample.readlines())\n",
    "    #data = sample.readlines()\n",
    "    for x in sample:\n",
    "        print(x)"
   ]
  },
  {
   "cell_type": "code",
   "execution_count": null,
   "metadata": {},
   "outputs": [],
   "source": [
    "#Algorithm\n",
    "def isPalindrome(str):\n",
    "    startIndex= 0\n",
    "    endIndex= len(str) - 1\n",
    "\n",
    "    for x in str:\n",
    "        if str[startIndex] != str[endIndex]:\n",
    "            return False\n",
    "        else:\n",
    "            return  True\n",
    "\n",
    "print(isPalindrome('racecar'))"
   ]
  },
  {
   "cell_type": "code",
   "execution_count": null,
   "metadata": {},
   "outputs": [],
   "source": [
    "#Reverse the string using slice\n",
    "#Sytanx for reverse string[start:stop:step]\n",
    "text = 'Surenther'\n",
    "\n",
    "def reverse (text):\n",
    "    return text[::-1]\n",
    "\n",
    "print(reverse(text))"
   ]
  },
  {
   "cell_type": "code",
   "execution_count": 7,
   "metadata": {},
   "outputs": [
    {
     "name": "stdout",
     "output_type": "stream",
     "text": [
      "rehtneruS\n"
     ]
    }
   ],
   "source": [
    "#Reverse using recursive function\n",
    "\n",
    "def string_reverse(string):\n",
    "    if len(string) == 0:\n",
    "        return string\n",
    "    else:\n",
    "        return string_reverse(string[1:])+ string [0]\n",
    "\n",
    "str = 'Surenther'\n",
    "\n",
    "print(string_reverse(str))"
   ]
  },
  {
   "cell_type": "code",
   "execution_count": null,
   "metadata": {},
   "outputs": [],
   "source": [
    "#map\n",
    "data = [\"espresso\", \"mocha\", \"latter\", \"cappuccino\", \"cortado\", \"americano\"]\n",
    "\n",
    "def find_coffee(mydata):\n",
    "    if mydata[0] == 'c':\n",
    "        return mydata\n",
    "\n",
    "map_data = map(find_coffee, data)\n",
    "for i in map_data:\n",
    "    print(i)"
   ]
  },
  {
   "cell_type": "code",
   "execution_count": 5,
   "metadata": {},
   "outputs": [
    {
     "name": "stdout",
     "output_type": "stream",
     "text": [
      "cappuccino\n",
      "cortado\n"
     ]
    }
   ],
   "source": [
    "#filter\n",
    "data = [\"espresso\", \"mocha\", \"latter\", \"cappuccino\", \"cortado\", \"americano\"]\n",
    "\n",
    "def find_coffee(mydata):\n",
    "    if mydata[0] == 'c':\n",
    "        return mydata\n",
    "\n",
    "filter_data = filter(find_coffee, data)\n",
    "for i in filter_data:\n",
    "    print(i)"
   ]
  },
  {
   "cell_type": "code",
   "execution_count": null,
   "metadata": {},
   "outputs": [],
   "source": [
    "#List comprehension\n",
    "data = [2,3,5,7,11,13,17,19,23,29,31]\n",
    "\n",
    "# Ex1: List comprehension: updating the same list\n",
    "data = [x+3 for x in data]\n",
    "print(\"Updating the list: \", data)\n",
    "\n",
    "# Ex2: List comprehension: creating a different list with updated values\n",
    "new_data = [x*2 for x in data]\n",
    "print(\"Creating new list: \", new_data)\n",
    "\n",
    "# Ex3: With an if-condition: Multiples of four:\n",
    "fourx = [x for x in new_data if x%4 == 0 ]\n",
    "print(\"Divisible by four\", fourx)\n",
    "\n",
    "# Ex4: Alternatively, we can update the list with the if condition as well\n",
    "fourxsub = [x-1 for x in new_data if x%4 == 0 ]\n",
    "print(\"Divisible by four minus one: \", fourxsub)\n",
    "\n",
    "# Ex5: Using range function:\n",
    "nines = [x for x in range(100) if x%9 == 0]\n",
    "print(\"Nines: \", nines)"
   ]
  },
  {
   "cell_type": "code",
   "execution_count": null,
   "metadata": {},
   "outputs": [],
   "source": [
    "# Dictionary comprehension\n",
    "# Using range() function and no input list\n",
    "usingrange = {x:x*2 for x in range(12)}\n",
    "print(\"Using range(): \",usingrange)\n",
    "\n",
    "# Lists\n",
    "months = [\"Jan\", \"Feb\", \"Mar\", \"Apr\", \"May\", \"June\", \"July\", \"Aug\", \"Sept\", \"Oct\", \"Nov\", \"Dec\"]\n",
    "number = [1,2,3,4,5,6,7,8,9,10,11,12]\n",
    "\n",
    "# Using one input list\n",
    "numdict = {x:x**2 for x in number}\n",
    "print(\"Using one input list to create dict: \", numdict)\n",
    "\n",
    "# Using two input lists\n",
    "months_dict = {key:value for (key, value) in zip(number, months)}\n",
    "print(\"Using two lists: \", months_dict)"
   ]
  },
  {
   "cell_type": "code",
   "execution_count": null,
   "metadata": {},
   "outputs": [],
   "source": [
    "#Set comprehension\n",
    "set_a = {x for x in range(10,20) if x not in [12,14,16]}\n",
    "print(set_a)"
   ]
  },
  {
   "cell_type": "code",
   "execution_count": null,
   "metadata": {},
   "outputs": [],
   "source": [
    "#Generator comprehension\n",
    "data = [2,3,5,7,11,13,17,19,23,29,31]\n",
    "gen_obj = (x for x in data)\n",
    "print(gen_obj)\n",
    "print(type(gen_obj))\n",
    "for items in gen_obj:\n",
    "    print(items, end = \" \")"
   ]
  }
 ],
 "metadata": {
  "kernelspec": {
   "display_name": "Python 3.10.6 64-bit",
   "language": "python",
   "name": "python3"
  },
  "language_info": {
   "codemirror_mode": {
    "name": "ipython",
    "version": 3
   },
   "file_extension": ".py",
   "mimetype": "text/x-python",
   "name": "python",
   "nbconvert_exporter": "python",
   "pygments_lexer": "ipython3",
   "version": "3.10.6"
  },
  "orig_nbformat": 4,
  "vscode": {
   "interpreter": {
    "hash": "e7370f93d1d0cde622a1f8e1c04877d8463912d04d973331ad4851f04de6915a"
   }
  }
 },
 "nbformat": 4,
 "nbformat_minor": 2
}
